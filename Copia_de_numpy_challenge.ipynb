{
  "nbformat": 4,
  "nbformat_minor": 0,
  "metadata": {
    "colab": {
      "provenance": [],
      "include_colab_link": true
    },
    "kernelspec": {
      "name": "python3",
      "display_name": "Python 3"
    }
  },
  "cells": [
    {
      "cell_type": "markdown",
      "metadata": {
        "id": "view-in-github",
        "colab_type": "text"
      },
      "source": [
        "<a href=\"https://colab.research.google.com/github/MIAPTA/Challenge-DScience/blob/main/Copia_de_numpy_challenge.ipynb\" target=\"_parent\"><img src=\"https://colab.research.google.com/assets/colab-badge.svg\" alt=\"Open In Colab\"/></a>"
      ]
    },
    {
      "cell_type": "markdown",
      "metadata": {
        "id": "sVyBG_cKTAwL"
      },
      "source": [
        "#NumPy Challenge"
      ]
    },
    {
      "cell_type": "markdown",
      "metadata": {
        "id": "NSnRQUO1RDEh"
      },
      "source": [
        "Create a NumPy ndarray object by using this list of numbers [7,8,4,5,1,2].\n"
      ]
    },
    {
      "cell_type": "code",
      "metadata": {
        "id": "P-2GBUw-Q60r"
      },
      "source": [
        "import numpy as np\n",
        "array = np.array ([7, 8, 4, 5, 1, 2])"
      ],
      "execution_count": null,
      "outputs": []
    },
    {
      "cell_type": "markdown",
      "metadata": {
        "id": "zSoe7IVrQ9Gw"
      },
      "source": [
        "Using slicing print the elements from index 3 to the end of the array.\n",
        "\n"
      ]
    },
    {
      "cell_type": "code",
      "metadata": {
        "id": "XUVmHemyRM_K",
        "colab": {
          "base_uri": "https://localhost:8080/"
        },
        "outputId": "39f691aa-0b37-44ad-e1ce-e97eb606f6fd"
      },
      "source": [
        "print (array[3:])"
      ],
      "execution_count": null,
      "outputs": [
        {
          "output_type": "stream",
          "name": "stdout",
          "text": [
            "[5 1 2]\n"
          ]
        }
      ]
    },
    {
      "cell_type": "markdown",
      "metadata": {
        "id": "DejW1hk-ROcM"
      },
      "source": [
        "Using slicing print all the elements except the last one.\n",
        "\n"
      ]
    },
    {
      "cell_type": "code",
      "metadata": {
        "id": "W-1sPgknSbQg",
        "colab": {
          "base_uri": "https://localhost:8080/"
        },
        "outputId": "14019417-f5de-4537-d7e6-5c46838d7ab5"
      },
      "source": [
        "print (array[:-1])"
      ],
      "execution_count": null,
      "outputs": [
        {
          "output_type": "stream",
          "name": "stdout",
          "text": [
            "[7 8 4 5 1]\n"
          ]
        }
      ]
    },
    {
      "cell_type": "markdown",
      "metadata": {
        "id": "kTE3PxezRSFu"
      },
      "source": [
        "Using slicing print the elements from index 1 to index 4 of the array.\n",
        "\n"
      ]
    },
    {
      "cell_type": "code",
      "metadata": {
        "id": "KyuRjCKBRWNO",
        "colab": {
          "base_uri": "https://localhost:8080/"
        },
        "outputId": "8478dfff-6ea2-49cc-bb59-4715450c954b"
      },
      "source": [
        "print(array[1:5])"
      ],
      "execution_count": null,
      "outputs": [
        {
          "output_type": "stream",
          "name": "stdout",
          "text": [
            "[8 4 5 1]\n"
          ]
        }
      ]
    },
    {
      "cell_type": "markdown",
      "metadata": {
        "id": "HlHIAmE3RW9U"
      },
      "source": [
        "Reshape the array into a 3 rows and 2 cols (3,2).\n",
        "\n"
      ]
    },
    {
      "cell_type": "code",
      "metadata": {
        "id": "Mh65VUorRZV6",
        "colab": {
          "base_uri": "https://localhost:8080/"
        },
        "outputId": "acead75b-dc49-4faf-ede2-5f453f3deedb"
      },
      "source": [
        "arr = array.reshape(3,2)\n",
        "print (arr)"
      ],
      "execution_count": null,
      "outputs": [
        {
          "output_type": "stream",
          "name": "stdout",
          "text": [
            "[[7 8]\n",
            " [4 5]\n",
            " [1 2]]\n"
          ]
        }
      ]
    },
    {
      "cell_type": "markdown",
      "metadata": {
        "id": "7EA2AxnKRZ-B"
      },
      "source": [
        "Print all the array elements one by one (iterating).\n",
        "\n"
      ]
    },
    {
      "cell_type": "code",
      "metadata": {
        "id": "NA_5SBc9SFNn",
        "colab": {
          "base_uri": "https://localhost:8080/"
        },
        "outputId": "d153c785-b4df-4cbc-d034-0f0a5213dd0d"
      },
      "source": [
        "for ar in array:\n",
        "  print (ar)\n"
      ],
      "execution_count": null,
      "outputs": [
        {
          "output_type": "stream",
          "name": "stdout",
          "text": [
            "7\n",
            "8\n",
            "4\n",
            "5\n",
            "1\n",
            "2\n"
          ]
        }
      ]
    },
    {
      "cell_type": "markdown",
      "metadata": {
        "id": "gmDsX1y1RcsQ"
      },
      "source": [
        "Create a new NumPy ndarray object by using this list of numbers [0,6,9].\n",
        "\n"
      ]
    },
    {
      "cell_type": "code",
      "metadata": {
        "id": "VmE_QUleSD_P",
        "colab": {
          "base_uri": "https://localhost:8080/"
        },
        "outputId": "d63d6d58-27fe-46d2-d23b-bac48c6d85b0"
      },
      "source": [
        "ndarray = np.array([0, 6, 9], dtype='O')\n",
        "\n",
        "print(ndarray)\n",
        "print(ndarray.dtype)"
      ],
      "execution_count": null,
      "outputs": [
        {
          "output_type": "stream",
          "name": "stdout",
          "text": [
            "[0 6 9]\n",
            "object\n"
          ]
        }
      ]
    },
    {
      "cell_type": "markdown",
      "metadata": {
        "id": "jloT--lqRf7j"
      },
      "source": [
        "Join the two arrays.\n",
        "\n"
      ]
    },
    {
      "cell_type": "code",
      "metadata": {
        "id": "unD39X5dSDSn",
        "colab": {
          "base_uri": "https://localhost:8080/"
        },
        "outputId": "34282fbd-1735-4933-fc60-4d0baa66d1e4"
      },
      "source": [
        "jarray = np.concatenate((array, ndarray))\n",
        "print (jarray)"
      ],
      "execution_count": null,
      "outputs": [
        {
          "output_type": "stream",
          "name": "stdout",
          "text": [
            "[7 8 4 5 1 2 0 6 9]\n"
          ]
        }
      ]
    },
    {
      "cell_type": "markdown",
      "metadata": {
        "id": "XfoeRhPERjPR"
      },
      "source": [
        "Using filtering print only the odd numbers of the joined array.\n",
        "\n"
      ]
    },
    {
      "cell_type": "code",
      "metadata": {
        "id": "Be-oEmWNSCKG",
        "colab": {
          "base_uri": "https://localhost:8080/"
        },
        "outputId": "60da2f93-2b91-4f94-a634-ced694475d37"
      },
      "source": [
        "filter_odd = []\n",
        "for element in jarray:\n",
        "  if element % 2 == 1:\n",
        "    filter_odd.append(True)\n",
        "  else:\n",
        "    filter_odd.append(False)\n",
        "oddar = jarray[filter_odd]\n",
        "print (oddar)"
      ],
      "execution_count": null,
      "outputs": [
        {
          "output_type": "stream",
          "name": "stdout",
          "text": [
            "[7 5 1 9]\n"
          ]
        }
      ]
    },
    {
      "cell_type": "markdown",
      "metadata": {
        "id": "cMZHbF4JRlwJ"
      },
      "source": [
        "Sort the joined array elements.\n",
        "\n"
      ]
    },
    {
      "cell_type": "code",
      "metadata": {
        "id": "d3ta_UTjSBb3",
        "colab": {
          "base_uri": "https://localhost:8080/"
        },
        "outputId": "7b5e8708-d1bc-4d0a-c36a-733b24053cf8"
      },
      "source": [
        "print(np.sort(jarray))"
      ],
      "execution_count": null,
      "outputs": [
        {
          "output_type": "stream",
          "name": "stdout",
          "text": [
            "[0 1 2 4 5 6 7 8 9]\n"
          ]
        }
      ]
    },
    {
      "cell_type": "markdown",
      "metadata": {
        "id": "F0u9Tf_pRoKR"
      },
      "source": [
        "Store in an array the names of the months.\n",
        "\n"
      ]
    },
    {
      "cell_type": "code",
      "metadata": {
        "id": "a6trOwrmSAg6",
        "colab": {
          "base_uri": "https://localhost:8080/"
        },
        "outputId": "bd75b75a-7e98-43c8-fd42-1fffd4d95c28"
      },
      "source": [
        "marray = np.array(['january', 'february', 'march', 'april', 'may', 'juny', 'july', 'august', 'september', 'october', 'november', 'december'])\n",
        "print (marray)"
      ],
      "execution_count": null,
      "outputs": [
        {
          "output_type": "stream",
          "name": "stdout",
          "text": [
            "['january' 'february' 'march' 'april' 'may' 'juny' 'july' 'august'\n",
            " 'september' 'october' 'november' 'december']\n"
          ]
        }
      ]
    },
    {
      "cell_type": "markdown",
      "metadata": {
        "id": "zMHje9-zRqrR"
      },
      "source": [
        "Split the months array in 4 periods of 3 elements each one.\n",
        "\n"
      ]
    },
    {
      "cell_type": "code",
      "metadata": {
        "id": "jht0_5-iR_xn",
        "colab": {
          "base_uri": "https://localhost:8080/"
        },
        "outputId": "0f446d50-e0e6-4824-d057-1f669c27eec6"
      },
      "source": [
        "sarr = np.array_split(marray, 4)\n",
        "print (sarr)"
      ],
      "execution_count": null,
      "outputs": [
        {
          "output_type": "stream",
          "name": "stdout",
          "text": [
            "[array(['january', 'february', 'march'], dtype='<U9'), array(['april', 'may', 'juny'], dtype='<U9'), array(['july', 'august', 'september'], dtype='<U9'), array(['october', 'november', 'december'], dtype='<U9')]\n"
          ]
        }
      ]
    },
    {
      "cell_type": "markdown",
      "metadata": {
        "id": "ukxoOg5rRtkJ"
      },
      "source": [
        "Create an array with genre information ['F','M','F','F','M','F'].\n",
        "\n"
      ]
    },
    {
      "cell_type": "code",
      "metadata": {
        "id": "GZLCMD2OR-4G",
        "colab": {
          "base_uri": "https://localhost:8080/"
        },
        "outputId": "eeff03df-b44d-4531-eee9-74e96cafeef6"
      },
      "source": [
        "garr = np.array(['F','M', 'F', 'F', 'M', 'F'])\n",
        "print (garr)"
      ],
      "execution_count": null,
      "outputs": [
        {
          "output_type": "stream",
          "name": "stdout",
          "text": [
            "['F' 'M' 'F' 'F' 'M' 'F']\n"
          ]
        }
      ]
    },
    {
      "cell_type": "markdown",
      "metadata": {
        "id": "VlLwuy-ERvzu"
      },
      "source": [
        "Find the indexes where the value is F.\n",
        "\n"
      ]
    },
    {
      "cell_type": "code",
      "metadata": {
        "id": "dx0LCoSAR9-w",
        "colab": {
          "base_uri": "https://localhost:8080/"
        },
        "outputId": "2cf32ac7-11a4-4d09-877b-2975c22f9262"
      },
      "source": [
        "x = np.where(garr == 'F')\n",
        "print (x)"
      ],
      "execution_count": null,
      "outputs": [
        {
          "output_type": "stream",
          "name": "stdout",
          "text": [
            "(array([0, 2, 3, 5]),)\n"
          ]
        }
      ]
    },
    {
      "cell_type": "markdown",
      "metadata": {
        "id": "y0Uk475sRytB"
      },
      "source": [
        "Store in an array the age information [18,20,19,23,19,20].\n",
        "\n"
      ]
    },
    {
      "cell_type": "code",
      "metadata": {
        "id": "tABLVP7gR9QP",
        "colab": {
          "base_uri": "https://localhost:8080/"
        },
        "outputId": "04c2eebf-34cd-46fa-9ea1-6ca0d682b58c"
      },
      "source": [
        "arrg = np.array([18,20,19,23,19,20])\n",
        "print (arrg)"
      ],
      "execution_count": null,
      "outputs": [
        {
          "output_type": "stream",
          "name": "stdout",
          "text": [
            "[18 20 19 23 19 20]\n"
          ]
        }
      ]
    },
    {
      "cell_type": "markdown",
      "metadata": {
        "id": "D-VswLqJR05A"
      },
      "source": [
        "Create a filter array with values < 20.\n",
        "\n"
      ]
    },
    {
      "cell_type": "code",
      "metadata": {
        "id": "tk4jIi3pR8aZ",
        "colab": {
          "base_uri": "https://localhost:8080/"
        },
        "outputId": "d5c1b617-4887-48a6-9782-8aed360c7d21"
      },
      "source": [
        "filter_arr = []\n",
        "for element in arrg:\n",
        "  if element < 20:\n",
        "    filter_arr.append(True)\n",
        "  else:\n",
        "    filter_arr.append(False)\n",
        "agearr = arrg[filter_arr]\n",
        "print (agearr)"
      ],
      "execution_count": null,
      "outputs": [
        {
          "output_type": "stream",
          "name": "stdout",
          "text": [
            "[18 19 19]\n"
          ]
        }
      ]
    },
    {
      "cell_type": "markdown",
      "metadata": {
        "id": "aiGbZbwHR3CJ"
      },
      "source": [
        "Change the 3 index element with a value of 22\n",
        "\n"
      ]
    },
    {
      "cell_type": "code",
      "metadata": {
        "id": "OMpH-wT6R7iK",
        "colab": {
          "base_uri": "https://localhost:8080/"
        },
        "outputId": "3e41517d-d6ea-451a-84c0-eafa18aff166"
      },
      "source": [
        "arrg[3] = 22\n",
        "print (arrg)"
      ],
      "execution_count": null,
      "outputs": [
        {
          "output_type": "stream",
          "name": "stdout",
          "text": [
            "[18 20 19 22 19 20]\n"
          ]
        }
      ]
    },
    {
      "cell_type": "markdown",
      "metadata": {
        "id": "0DELnRV_R5Df"
      },
      "source": [
        "Print the 4 index element."
      ]
    },
    {
      "cell_type": "code",
      "metadata": {
        "id": "SOg99cxZR6ZX",
        "colab": {
          "base_uri": "https://localhost:8080/"
        },
        "outputId": "e2ed6d20-3968-45ea-9a9f-88b90bda1cb7"
      },
      "source": [
        "print (arrg[4])"
      ],
      "execution_count": null,
      "outputs": [
        {
          "output_type": "stream",
          "name": "stdout",
          "text": [
            "19\n"
          ]
        }
      ]
    }
  ]
}